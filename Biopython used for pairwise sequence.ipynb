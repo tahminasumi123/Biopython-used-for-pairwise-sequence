{
 "cells": [
  {
   "cell_type": "code",
   "execution_count": 1,
   "id": "0a31dfeb",
   "metadata": {},
   "outputs": [
    {
     "name": "stderr",
     "output_type": "stream",
     "text": [
      "C:\\Users\\Apollo Gadget\\anaconda3\\lib\\site-packages\\Bio\\pairwise2.py:278: BiopythonDeprecationWarning: Bio.pairwise2 has been deprecated, and we intend to remove it in a future release of Biopython. As an alternative, please consider using Bio.Align.PairwiseAligner as a replacement, and contact the Biopython developers if you still need the Bio.pairwise2 module.\n",
      "  warnings.warn(\n"
     ]
    }
   ],
   "source": [
    "from Bio import pairwise2"
   ]
  },
  {
   "cell_type": "code",
   "execution_count": 2,
   "id": "420dae37",
   "metadata": {},
   "outputs": [
    {
     "name": "stdout",
     "output_type": "stream",
     "text": [
      "ACCGGT\n",
      "| | ||\n",
      "A-C-GT\n",
      "  Score=4\n",
      "\n",
      "ACCGGT\n",
      "||  ||\n",
      "AC--GT\n",
      "  Score=4\n",
      "\n",
      "ACCGGT\n",
      "| || |\n",
      "A-CG-T\n",
      "  Score=4\n",
      "\n",
      "ACCGGT\n",
      "|| | |\n",
      "AC-G-T\n",
      "  Score=4\n",
      "\n"
     ]
    }
   ],
   "source": [
    "#scoring alignment\n",
    "# globalxx - matches score 1, mismatches 0 and no gap penalty.\n",
    "alignments = pairwise2.align.globalxx(\"ACCGGT\", \"ACGT\") \n",
    "for alignment in alignments:\n",
    "    print(pairwise2.format_alignment(*alignment))"
   ]
  },
  {
   "cell_type": "code",
   "execution_count": 3,
   "id": "c7fbb72a",
   "metadata": {},
   "outputs": [
    {
     "name": "stdout",
     "output_type": "stream",
     "text": [
      "ACCGGT\n",
      "| | ||\n",
      "A-C-GT\n",
      "  Score=8\n",
      "\n",
      "ACCGGT\n",
      "||  ||\n",
      "AC--GT\n",
      "  Score=8\n",
      "\n",
      "ACCGGT\n",
      "| || |\n",
      "A-CG-T\n",
      "  Score=8\n",
      "\n",
      "ACCGGT\n",
      "|| | |\n",
      "AC-G-T\n",
      "  Score=8\n",
      "\n"
     ]
    }
   ],
   "source": [
    "#mismatch score\n",
    "# globalmx - # matches score 2, mismatches -1. No gap penalty.\n",
    "alignments = pairwise2.align.globalmx(\"ACCGGT\", \"ACGT\", match=2, mismatch=-1) \n",
    "for alignment in alignments:\n",
    "    print(pairwise2.format_alignment(*alignment))"
   ]
  },
  {
   "cell_type": "code",
   "execution_count": 4,
   "id": "3db7e039",
   "metadata": {},
   "outputs": [
    {
     "name": "stdout",
     "output_type": "stream",
     "text": [
      "ACCGGT\n",
      "||  ||\n",
      "AC--GT\n",
      "  Score=1\n",
      "\n"
     ]
    }
   ],
   "source": [
    "#scoring differntly\n",
    "# globalxs - matches score 1, mismatches 0, opening gap -2, extended gap -1\n",
    "alignments = pairwise2.align.globalxs(\"ACCGGT\", \"ACGT\", open=-2, extend=-1)\n",
    "for alignment in alignments:\n",
    "    print(pairwise2.format_alignment(*alignment))"
   ]
  },
  {
   "cell_type": "code",
   "execution_count": 5,
   "id": "bcd91314",
   "metadata": {},
   "outputs": [
    {
     "name": "stdout",
     "output_type": "stream",
     "text": [
      "KEVLA\n",
      " ||| \n",
      "-EVL-\n",
      "  Score=13\n",
      "\n"
     ]
    }
   ],
   "source": [
    "#blindscoring no gap penalty for global two protein\n",
    "# globaldx - matching/mismatching scores read from blosum62 matrix, no gap penalty\n",
    "from Bio.Align import substitution_matrices\n",
    "matrix = substitution_matrices.load(\"BLOSUM62\") # blosum62 scoring matrix for sequence alignment of proteins\n",
    "alignments = pairwise2.align.globaldx(\"KEVLA\", \"EVL\", match_dict=matrix)\n",
    "for alignment in alignments:\n",
    "    print(pairwise2.format_alignment(*alignment))"
   ]
  },
  {
   "cell_type": "code",
   "execution_count": 6,
   "id": "f0511279",
   "metadata": {},
   "outputs": [
    {
     "name": "stdout",
     "output_type": "stream",
     "text": [
      "ACCCCCGT\n",
      "|    || \n",
      "A----CG-\n",
      "  Score=9.30685\n",
      "\n",
      "ACCCCCGT\n",
      "||    | \n",
      "AC----G-\n",
      "  Score=9.30685\n",
      "\n"
     ]
    }
   ],
   "source": [
    "#\n",
    "# globalmc - matches score 5, mismatches -4, gap penalty defined through function gap_function\n",
    "from math import log\n",
    "def gap_function(x, y):  # x is gap position in seq, y is gap length\n",
    "     if y == 0:  # No gap\n",
    "        return 0\n",
    "     elif y == 1:  # Gap open penalty\n",
    "        return -2\n",
    "     return - (2 + y/4.0 + log(y)/2.0)\n",
    "\n",
    "alignments = pairwise2.align.globalmc(\"ACCCCCGT\", \"ACG\", match=5, mismatch=-4,\n",
    "                                     gap_A_fn=gap_function, gap_B_fn=gap_function)\n",
    "for alignment in alignments:\n",
    "    print(pairwise2.format_alignment(*alignment))"
   ]
  },
  {
   "cell_type": "code",
   "execution_count": null,
   "id": "a9544c3d",
   "metadata": {},
   "outputs": [],
   "source": []
  }
 ],
 "metadata": {
  "kernelspec": {
   "display_name": "Python 3 (ipykernel)",
   "language": "python",
   "name": "python3"
  },
  "language_info": {
   "codemirror_mode": {
    "name": "ipython",
    "version": 3
   },
   "file_extension": ".py",
   "mimetype": "text/x-python",
   "name": "python",
   "nbconvert_exporter": "python",
   "pygments_lexer": "ipython3",
   "version": "3.10.9"
  }
 },
 "nbformat": 4,
 "nbformat_minor": 5
}
